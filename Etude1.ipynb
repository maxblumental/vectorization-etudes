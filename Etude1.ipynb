{
 "cells": [
  {
   "cell_type": "code",
   "execution_count": null,
   "metadata": {},
   "outputs": [],
   "source": [
    "import torch\n",
    "import numpy as np"
   ]
  },
  {
   "cell_type": "code",
   "execution_count": null,
   "metadata": {},
   "outputs": [],
   "source": [
    "device = torch.device(\"cuda:0\" if torch.cuda.is_available() else \"cpu\")"
   ]
  },
  {
   "cell_type": "markdown",
   "metadata": {},
   "source": [
    "## Etude 1\n",
    "Let $u$ be a vector of $2D$ points. We need to get a matrix $A$ whose element $(i,j)$ depends on euclidean distance between $u_i$ and $u_j$.\n",
    "\n",
    "$$u \\in \\mathbb{R}^{N \\times 2}$$\n",
    "$$A \\in \\mathbb{R}^{N \\times N}, \\ A_{ij} = f(\\|u_i - u_j\\|) $$\n",
    "\n",
    "Particularly, let's take $f(x) = exp(-\\frac{x}{4})$."
   ]
  },
  {
   "cell_type": "markdown",
   "metadata": {},
   "source": [
    "### Naive approach"
   ]
  },
  {
   "cell_type": "code",
   "execution_count": null,
   "metadata": {},
   "outputs": [],
   "source": [
    "def naive(u, N):\n",
    "    result = torch.zeros(N, N)\n",
    "    for i in range(N):\n",
    "        for j in range(N):\n",
    "            result[i,j] = torch.exp(-0.25 * torch.dist(u[i], u[j]))\n",
    "    return result"
   ]
  },
  {
   "cell_type": "markdown",
   "metadata": {},
   "source": [
    "### Vectorized approaches"
   ]
  },
  {
   "cell_type": "code",
   "execution_count": null,
   "metadata": {},
   "outputs": [],
   "source": [
    "def fully_vectorized(u, N):\n",
    "    u_ = u.reshape(1, *u.shape) # add one dimension for transposing\n",
    "    A_ = u_.permute((1, 0, 2)) - u_ # row - column: broadcasting subtraction\n",
    "    return A_.pow_(2).sum(dim=2).sqrt_().mul_(-0.25).exp_()"
   ]
  },
  {
   "cell_type": "code",
   "execution_count": null,
   "metadata": {},
   "outputs": [],
   "source": [
    "def fully_vectorized_gpu(u, N):\n",
    "    u.to(device)\n",
    "    u_ = u.reshape(1, *u.shape)\n",
    "    A_ = u_.permute((1, 0, 2)) - u_\n",
    "    return A_.pow_(2).sum(dim=2).sqrt_().mul_(-0.25).exp_()"
   ]
  },
  {
   "cell_type": "code",
   "execution_count": null,
   "metadata": {},
   "outputs": [],
   "source": [
    "def one_dim_vectorized(u, N):\n",
    "    result = torch.zeros(N, N)\n",
    "    for i in range(N):\n",
    "        du = u[i] - u\n",
    "        result[i,:] = du.pow_(2).sum(dim=1).sqrt_().mul_(-0.25).exp_()\n",
    "    return result"
   ]
  },
  {
   "cell_type": "markdown",
   "metadata": {},
   "source": [
    "### Comparison"
   ]
  },
  {
   "cell_type": "markdown",
   "metadata": {},
   "source": [
    "#### fully vectorized vs. naive"
   ]
  },
  {
   "cell_type": "code",
   "execution_count": null,
   "metadata": {},
   "outputs": [],
   "source": [
    "N = 10**3\n",
    "u = torch.randn(N, 2)"
   ]
  },
  {
   "cell_type": "code",
   "execution_count": null,
   "metadata": {},
   "outputs": [],
   "source": [
    "%%time\n",
    "A = naive(u, N)"
   ]
  },
  {
   "cell_type": "code",
   "execution_count": null,
   "metadata": {},
   "outputs": [],
   "source": [
    "%%time\n",
    "B = fully_vectorized(u, N)"
   ]
  },
  {
   "cell_type": "code",
   "execution_count": null,
   "metadata": {},
   "outputs": [],
   "source": [
    "assert torch.equal(A, B)"
   ]
  },
  {
   "cell_type": "markdown",
   "metadata": {},
   "source": [
    "#### 1-dim vectorized vs. fully vectorized"
   ]
  },
  {
   "cell_type": "code",
   "execution_count": null,
   "metadata": {},
   "outputs": [],
   "source": [
    "N = 10**4\n",
    "u = torch.randn(N, 2)"
   ]
  },
  {
   "cell_type": "code",
   "execution_count": null,
   "metadata": {},
   "outputs": [],
   "source": [
    "%%timeit\n",
    "A = fully_vectorized(u, N)"
   ]
  },
  {
   "cell_type": "code",
   "execution_count": null,
   "metadata": {},
   "outputs": [],
   "source": [
    "%%timeit\n",
    "B = one_dim_vectorized(u, N)"
   ]
  },
  {
   "cell_type": "code",
   "execution_count": null,
   "metadata": {},
   "outputs": [],
   "source": [
    "assert torch.equal(A, B)"
   ]
  },
  {
   "cell_type": "markdown",
   "metadata": {},
   "source": [
    "#### cpu vs. gpu"
   ]
  },
  {
   "cell_type": "code",
   "execution_count": null,
   "metadata": {},
   "outputs": [],
   "source": [
    "N = 10**4\n",
    "u = torch.randn(N, 2)\n",
    "v = torch.randn(N, 2, device=device)"
   ]
  },
  {
   "cell_type": "code",
   "execution_count": null,
   "metadata": {},
   "outputs": [],
   "source": [
    "%%timeit\n",
    "A = fully_vectorized(u, N)"
   ]
  },
  {
   "cell_type": "code",
   "execution_count": null,
   "metadata": {},
   "outputs": [],
   "source": [
    "%%timeit\n",
    "B = fully_vectorized_gpu(v, N)"
   ]
  },
  {
   "cell_type": "code",
   "execution_count": null,
   "metadata": {},
   "outputs": [],
   "source": [
    "torch.equal(A, B)"
   ]
  },
  {
   "cell_type": "markdown",
   "metadata": {},
   "source": [
    "### t(N)"
   ]
  },
  {
   "cell_type": "code",
   "execution_count": null,
   "metadata": {},
   "outputs": [],
   "source": [
    "import time\n",
    "import matplotlib.pyplot as plt\n",
    "%matplotlib inline\n",
    "\n",
    "def bench(func, n_range, repeat=3):\n",
    "    t = []\n",
    "    for n in n_range:\n",
    "        t0 = []\n",
    "        for i in range(repeat):\n",
    "            u = torch.randn(n, 2)\n",
    "            start = time.time()\n",
    "            func(u, n)\n",
    "            end = time.time()\n",
    "            t0.append(end-start)\n",
    "        t.append(sum(t0)/len(t0))\n",
    "    return t"
   ]
  },
  {
   "cell_type": "code",
   "execution_count": null,
   "metadata": {},
   "outputs": [],
   "source": [
    "n = list(range(10**3, 6*10**3, 10**3))\n",
    "t_fv = bench(func=fully_vectorized, n_range=n)\n",
    "t_1dv = bench(func=one_dim_vectorized, n_range=n)"
   ]
  },
  {
   "cell_type": "code",
   "execution_count": null,
   "metadata": {},
   "outputs": [],
   "source": [
    "plt.plot(n, t_1dv, label='1dv')\n",
    "plt.plot(n, t_fv, label='fv')\n",
    "plt.ylabel('t, sec')\n",
    "plt.xlabel('N')\n",
    "plt.legend()\n",
    "plt.savefig(\"1d_vs_fully\")"
   ]
  }
 ],
 "metadata": {
  "kernelspec": {
   "display_name": "Python 3",
   "language": "python",
   "name": "python3"
  },
  "language_info": {
   "codemirror_mode": {
    "name": "ipython",
    "version": 3
   },
   "file_extension": ".py",
   "mimetype": "text/x-python",
   "name": "python",
   "nbconvert_exporter": "python",
   "pygments_lexer": "ipython3",
   "version": "3.6.5"
  }
 },
 "nbformat": 4,
 "nbformat_minor": 2
}
