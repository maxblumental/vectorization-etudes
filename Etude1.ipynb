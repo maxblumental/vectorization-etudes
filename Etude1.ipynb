{
 "cells": [
  {
   "cell_type": "code",
   "execution_count": 1,
   "metadata": {},
   "outputs": [],
   "source": [
    "import torch\n",
    "import numpy as np"
   ]
  },
  {
   "cell_type": "code",
   "execution_count": 2,
   "metadata": {},
   "outputs": [],
   "source": [
    "my_device = torch.device(\"cuda:0\" if torch.cuda.is_available() else \"cpu\")"
   ]
  },
  {
   "cell_type": "markdown",
   "metadata": {},
   "source": [
    "## Etude 1\n",
    "Let $u$ be a vector of $2D$ points. We need to get a matrix $A$ whose element $(i,j)$ depends on euclidean distance between $u_i$ and $u_j$.\n",
    "\n",
    "$$u \\in \\mathbb{R}^{N \\times 2}$$\n",
    "$$A \\in \\mathbb{R}^{N \\times N}, \\ A_{ij} = f(\\|u_i - u_j\\|) $$\n",
    "\n",
    "Particularly, let's take $f(x) = exp(-\\frac{x}{4})$."
   ]
  },
  {
   "cell_type": "markdown",
   "metadata": {},
   "source": [
    "### Auxiliary stuff for performance measurement"
   ]
  },
  {
   "cell_type": "code",
   "execution_count": 3,
   "metadata": {},
   "outputs": [],
   "source": [
    "import time\n",
    "import matplotlib.pyplot as plt\n",
    "%matplotlib inline\n",
    "\n",
    "\n",
    "def bench(func, n_range, repeat=3, device=None, warmup=0):\n",
    "    \"\"\"\n",
    "    Run 'func' with vector sizes in 'n_range'.\n",
    "    For each vector size average time of 'repeat' runs.\n",
    "    \"\"\"\n",
    "    if warmup:\n",
    "        for i in range(warmup):\n",
    "            size = np.random.choice(n_range)\n",
    "            func(torch.randn(size, 2, device=device))\n",
    "    t = []\n",
    "    for n in n_range:\n",
    "        t0 = []\n",
    "        for i in range(repeat):\n",
    "            u = torch.randn(n, 2, device=device)\n",
    "            start = time.time()\n",
    "            func(u)\n",
    "            end = time.time()\n",
    "            t0.append(end-start)\n",
    "        t.append(sum(t0)/len(t0))\n",
    "    return t\n",
    "\n",
    "\n",
    "def print_interval(ts):\n",
    "    \"\"\"\n",
    "    Print (mean ± std. dev.) interval \n",
    "    for the input set of execution times.\n",
    "    \"\"\"\n",
    "    m, dev = np.mean(ts), np.std(ts)\n",
    "    unit, factor = 's', 1\n",
    "    if m < 1e-3:\n",
    "        unit, factor = 'µs', 10**6\n",
    "    elif m < 1:\n",
    "        unit, factor = 'ms', 10**3\n",
    "    m *= factor\n",
    "    dev *= factor\n",
    "    print(f\"{m:.2f} ± {dev:.2f} {unit} per run (mean ± std. dev. of {len(ts)} runs)\")"
   ]
  },
  {
   "cell_type": "markdown",
   "metadata": {},
   "source": [
    "### Naive approach"
   ]
  },
  {
   "cell_type": "code",
   "execution_count": 4,
   "metadata": {},
   "outputs": [],
   "source": [
    "def naive(u):\n",
    "    N = u.shape[0]\n",
    "    result = torch.zeros(N, N)\n",
    "    for i in range(N):\n",
    "        for j in range(N):\n",
    "            result[i,j] = torch.exp(-0.25 * torch.dist(u[i], u[j]))\n",
    "    return result"
   ]
  },
  {
   "cell_type": "markdown",
   "metadata": {},
   "source": [
    "### Vectorized approaches"
   ]
  },
  {
   "cell_type": "code",
   "execution_count": 5,
   "metadata": {},
   "outputs": [],
   "source": [
    "def fully_vectorized(u):\n",
    "    u_ = u.reshape(1, *u.shape) # add one dimension for transposing\n",
    "    A_ = u_.permute((1, 0, 2)) - u_ # row - column: broadcasting subtraction\n",
    "    return A_.pow_(2).sum(dim=2).sqrt_().mul_(-0.25).exp_()"
   ]
  },
  {
   "cell_type": "code",
   "execution_count": 6,
   "metadata": {},
   "outputs": [],
   "source": [
    "def one_dim_vectorized(u):\n",
    "    N = u.shape[0]\n",
    "    result = torch.zeros(N, N)\n",
    "    for i in range(N):\n",
    "        du = u[i] - u\n",
    "        result[i,:] = du.pow_(2).sum(dim=1).sqrt_().mul_(-0.25).exp_()\n",
    "    return result"
   ]
  },
  {
   "cell_type": "markdown",
   "metadata": {},
   "source": [
    "### Comparison"
   ]
  },
  {
   "cell_type": "markdown",
   "metadata": {},
   "source": [
    "#### fully vectorized vs. naive"
   ]
  },
  {
   "cell_type": "code",
   "execution_count": 7,
   "metadata": {},
   "outputs": [],
   "source": [
    "N = 10**3\n",
    "u = torch.randn(N, 2)"
   ]
  },
  {
   "cell_type": "code",
   "execution_count": 8,
   "metadata": {},
   "outputs": [
    {
     "name": "stdout",
     "output_type": "stream",
     "text": [
      "CPU times: user 12.1 s, sys: 392 ms, total: 12.5 s\n",
      "Wall time: 12.5 s\n"
     ]
    }
   ],
   "source": [
    "%%time\n",
    "A = naive(u)"
   ]
  },
  {
   "cell_type": "code",
   "execution_count": 9,
   "metadata": {},
   "outputs": [
    {
     "name": "stdout",
     "output_type": "stream",
     "text": [
      "CPU times: user 64 ms, sys: 0 ns, total: 64 ms\n",
      "Wall time: 36.9 ms\n"
     ]
    }
   ],
   "source": [
    "%%time\n",
    "B = fully_vectorized(u)"
   ]
  },
  {
   "cell_type": "code",
   "execution_count": 10,
   "metadata": {},
   "outputs": [],
   "source": [
    "assert torch.equal(A, B)"
   ]
  },
  {
   "cell_type": "markdown",
   "metadata": {},
   "source": [
    "#### 1-dim vectorized vs. fully vectorized"
   ]
  },
  {
   "cell_type": "code",
   "execution_count": 11,
   "metadata": {},
   "outputs": [],
   "source": [
    "N = 10**4\n",
    "u = torch.randn(N, 2)"
   ]
  },
  {
   "cell_type": "code",
   "execution_count": 12,
   "metadata": {},
   "outputs": [
    {
     "name": "stdout",
     "output_type": "stream",
     "text": [
      "2.34 s ± 184 ms per loop (mean ± std. dev. of 7 runs, 1 loop each)\n"
     ]
    }
   ],
   "source": [
    "%%timeit\n",
    "A = fully_vectorized(u)"
   ]
  },
  {
   "cell_type": "code",
   "execution_count": 13,
   "metadata": {},
   "outputs": [
    {
     "name": "stdout",
     "output_type": "stream",
     "text": [
      "2.97 s ± 189 ms per loop (mean ± std. dev. of 7 runs, 1 loop each)\n"
     ]
    }
   ],
   "source": [
    "%%timeit\n",
    "B = one_dim_vectorized(u)"
   ]
  },
  {
   "cell_type": "code",
   "execution_count": 14,
   "metadata": {},
   "outputs": [],
   "source": [
    "assert torch.equal(A, B)"
   ]
  },
  {
   "cell_type": "code",
   "execution_count": 15,
   "metadata": {},
   "outputs": [],
   "source": [
    "ns = list(range(10**3, 6*10**3, 10**3))\n",
    "t_fv = bench(func=fully_vectorized, n_range=ns)\n",
    "t_1dv = bench(func=one_dim_vectorized, n_range=ns)"
   ]
  },
  {
   "cell_type": "code",
   "execution_count": 16,
   "metadata": {},
   "outputs": [
    {
     "data": {
      "text/plain": [
       "<matplotlib.legend.Legend at 0x7f089017cda0>"
      ]
     },
     "execution_count": 16,
     "metadata": {},
     "output_type": "execute_result"
    },
    {
     "data": {
      "image/png": "[encoded data removed]",
      "text/plain": [
       "<matplotlib.figure.Figure at 0x7f08e053f4a8>"
      ]
     },
     "metadata": {},
     "output_type": "display_data"
    }
   ],
   "source": [
    "plt.plot(ns, t_1dv, label='1dv')\n",
    "plt.plot(ns, t_fv, label='fv')\n",
    "plt.ylabel('t, sec')\n",
    "plt.xlabel('N')\n",
    "plt.legend()"
   ]
  },
  {
   "cell_type": "markdown",
   "metadata": {},
   "source": [
    "### cpu vs. gpu\n",
    "_Note_: don't use `timeit` for GPU because it disables gc and causes memory error"
   ]
  },
  {
   "cell_type": "code",
   "execution_count": 17,
   "metadata": {},
   "outputs": [],
   "source": [
    "N = 10**4\n",
    "ns = [N] * 20"
   ]
  },
  {
   "cell_type": "markdown",
   "metadata": {},
   "source": [
    "#### Fully vectorized on CPU"
   ]
  },
  {
   "cell_type": "code",
   "execution_count": 18,
   "metadata": {},
   "outputs": [
    {
     "name": "stdout",
     "output_type": "stream",
     "text": [
      "2.37 ± 0.23 s per run (mean ± std. dev. of 20 runs)\n"
     ]
    }
   ],
   "source": [
    "ts = bench(fully_vectorized, n_range=ns, repeat=1, warmup=3)\n",
    "print_interval(ts)"
   ]
  },
  {
   "cell_type": "markdown",
   "metadata": {},
   "source": [
    "#### 1-dim vectorized on GPU"
   ]
  },
  {
   "cell_type": "code",
   "execution_count": 19,
   "metadata": {},
   "outputs": [
    {
     "name": "stdout",
     "output_type": "stream",
     "text": [
      "1.49 ± 0.11 s per run (mean ± std. dev. of 20 runs)\n"
     ]
    }
   ],
   "source": [
    "ts = bench(one_dim_vectorized, n_range=ns, repeat=1, device=my_device, warmup=3)\n",
    "print_interval(ts)"
   ]
  },
  {
   "cell_type": "markdown",
   "metadata": {},
   "source": [
    "#### Fully vectorized on GPU"
   ]
  },
  {
   "cell_type": "code",
   "execution_count": 20,
   "metadata": {},
   "outputs": [
    {
     "name": "stdout",
     "output_type": "stream",
     "text": [
      "99.11 ± 3.32 µs per run (mean ± std. dev. of 20 runs)\n"
     ]
    }
   ],
   "source": [
    "ts = bench(fully_vectorized, n_range=ns, repeat=1, device=my_device, warmup=3)\n",
    "print_interval(ts)"
   ]
  }
 ],
 "metadata": {
  "kernelspec": {
   "display_name": "Python 3",
   "language": "python",
   "name": "python3"
  },
  "language_info": {
   "codemirror_mode": {
    "name": "ipython",
    "version": 3
   },
   "file_extension": ".py",
   "mimetype": "text/x-python",
   "name": "python",
   "nbconvert_exporter": "python",
   "pygments_lexer": "ipython3",
   "version": "3.6.5"
  }
 },
 "nbformat": 4,
 "nbformat_minor": 2
}
